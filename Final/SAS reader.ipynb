{
 "cells": [
  {
   "cell_type": "code",
   "execution_count": 26,
   "metadata": {},
   "outputs": [],
   "source": [
    "import pandas as pd\n",
    "list_of_ = [\"Body_Measures\", \"Demographics_Data\", \"Alcohol\", \"Blood_Pressure\", \"Cardio\", \"Consumer_Behavior\", \"Disability\", \"Drug_Use\", \"Insurance\", \"Hospitals\", \"Housing\", \"Income\", \"Depression_Screener\", \"Occupation\", \"Physical_Activity\", \"Sleep\", \"Smoker\", \"Weight\"] \n"
   ]
  },
  {
   "cell_type": "code",
   "execution_count": 28,
   "metadata": {},
   "outputs": [],
   "source": [
    "for i in a:\n",
    "    pd.read_sas(f\"Downloads/{i}.txt\", \"xport\").to_excel(f\"{i}.xlsx\")\n",
    "    \n",
    "#The following program was run in a folder for collecting the CDC data.\n",
    "#All files were then uploaded into a master spreadsheet in Google Drive for further analysis.\n"
   ]
  }
 ],
 "metadata": {
  "kernelspec": {
   "display_name": "Python 3",
   "language": "python",
   "name": "python3"
  },
  "language_info": {
   "codemirror_mode": {
    "name": "ipython",
    "version": 3
   },
   "file_extension": ".py",
   "mimetype": "text/x-python",
   "name": "python",
   "nbconvert_exporter": "python",
   "pygments_lexer": "ipython3",
   "version": "3.8.5"
  }
 },
 "nbformat": 4,
 "nbformat_minor": 4
}
